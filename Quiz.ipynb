{
 "cells": [
  {
   "cell_type": "code",
   "execution_count": 1,
   "id": "89e6cf21-5c79-4cae-ab8d-71f6c03f03f1",
   "metadata": {},
   "outputs": [
    {
     "name": "stdout",
     "output_type": "stream",
     "text": [
      " Welcome to the Python Quiz Game! \n",
      "Q1: Who is the captan of indian Cricket Tiem?\n",
      "A. virat kohali\n",
      "B. Rohit sharma\n",
      "C. jasprit bumrah\n",
      "M.S Dhoni\n"
     ]
    },
    {
     "name": "stdin",
     "output_type": "stream",
     "text": [
      "Your answer (A/B/C/D):  c\n"
     ]
    },
    {
     "name": "stdout",
     "output_type": "stream",
     "text": [
      "Wrong! The correct answer was B.\n",
      "\n",
      "Q2: 2024 T20 world Cup Winner Tiem?\n",
      "A. Austroliya\n",
      "B. England\n",
      "C. India\n",
      "D. Africa\n"
     ]
    },
    {
     "name": "stdin",
     "output_type": "stream",
     "text": [
      "Your answer (A/B/C/D):  b\n"
     ]
    },
    {
     "name": "stdout",
     "output_type": "stream",
     "text": [
      "Wrong! The correct answer was C.\n",
      "\n",
      "Q3: last ICC Champions Trophy played Year\n",
      "A. 2024\n",
      "B. 2025\n",
      "C. 2023\n",
      "D. 2017\n"
     ]
    },
    {
     "name": "stdin",
     "output_type": "stream",
     "text": [
      "Your answer (A/B/C/D):  b\n"
     ]
    },
    {
     "name": "stdout",
     "output_type": "stream",
     "text": [
      " Correct! Answer\n",
      "\n",
      "Q4: Who scored the most runs in the plyer in odi?\n",
      "A. 233\n",
      "B. 213\n",
      "C. 264\n",
      "D. 199\n"
     ]
    },
    {
     "name": "stdin",
     "output_type": "stream",
     "text": [
      "Your answer (A/B/C/D):  c\n"
     ]
    },
    {
     "name": "stdout",
     "output_type": "stream",
     "text": [
      " Correct! Answer\n",
      "\n",
      "Q5: Who scored the most runs in the in odi ?\n",
      "A. rohit sharma\n",
      "B. virat kohli\n",
      "C. dhoni\n",
      "D. tendulkar\n"
     ]
    },
    {
     "name": "stdin",
     "output_type": "stream",
     "text": [
      "Your answer (A/B/C/D):  d\n"
     ]
    },
    {
     "name": "stdout",
     "output_type": "stream",
     "text": [
      "Wrong! The correct answer was B.\n",
      "\n",
      "🎉 Quiz finished! Your score: 2 out of 5\n"
     ]
    }
   ],
   "source": [
    "# Quiz questions data: each question has 4 options and 1 correct answer\n",
    "quiz_questions = [\n",
    "    {\n",
    "        \"question\": \"Who is the captan of indian Cricket Tiem?\",\n",
    "        \"options\": [\"A. virat kohali\", \"B. Rohit sharma\", \"C. jasprit bumrah\", \"M.S Dhoni\"],\n",
    "        \"answer\": \"B\"\n",
    "    },\n",
    "    {\n",
    "        \"question\": \"2024 T20 world Cup Winner Tiem?\",\n",
    "        \"options\": [\"A. Austroliya\", \"B. England\", \"C. India\", \"D. Africa\"],\n",
    "        \"answer\": \"C\"\n",
    "    },\n",
    "    {\n",
    "        \"question\": \"last ICC Champions Trophy played Year\",\n",
    "        \"options\": [\"A. 2024\", \"B. 2025\", \"C. 2023\", \"D. 2017\"],\n",
    "        \"answer\": \"B\"\n",
    "    },\n",
    "    {\n",
    "        \"question\": \"Who scored the most runs in the plyer in odi?\",\n",
    "        \"options\": [\"A. 233\", \"B. 213\", \"C. 264\", \"D. 199\"],\n",
    "        \"answer\": \"C\"\n",
    "    },\n",
    "    {\n",
    "        \"question\": \"Who scored the most runs in the in odi ?\",\n",
    "        \"options\": [\"A. rohit sharma\", \"B. virat kohli\", \"C. dhoni\", \"D. tendulkar\"],\n",
    "        \"answer\": \"B\"\n",
    "    }\n",
    "]\n",
    "\n",
    "score = 0\n",
    "index = 0\n",
    "\n",
    "print(\" Welcome to the Python Quiz Game! \")\n",
    "\n",
    "while index < len(quiz_questions):\n",
    "    current = quiz_questions[index]\n",
    "    print(f\"Q{index+1}: {current['question']}\")\n",
    "    \n",
    "    for option in current['options']:\n",
    "        print(option)\n",
    "    \n",
    "    user_answer = input(\"Your answer (A/B/C/D): \").strip().upper()\n",
    "\n",
    "    if user_answer == current['answer']:\n",
    "        print(\" Correct! Answer\\n\")\n",
    "        score += 1\n",
    "    else:\n",
    "        print(f\"Wrong! The correct answer was {current['answer']}.\\n\")\n",
    "\n",
    "    index += 1\n",
    "\n",
    "print(f\" Quiz finished! Your score: {score} out of {len(quiz_questions)}\")\n"
   ]
  }
 ],
 "metadata": {
  "kernelspec": {
   "display_name": "Python 3 (ipykernel)",
   "language": "python",
   "name": "python3"
  },
  "language_info": {
   "codemirror_mode": {
    "name": "ipython",
    "version": 3
   },
   "file_extension": ".py",
   "mimetype": "text/x-python",
   "name": "python",
   "nbconvert_exporter": "python",
   "pygments_lexer": "ipython3",
   "version": "3.13.5"
  }
 },
 "nbformat": 4,
 "nbformat_minor": 5
}
